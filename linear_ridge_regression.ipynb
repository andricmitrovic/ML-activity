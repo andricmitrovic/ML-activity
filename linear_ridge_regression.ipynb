{
  "nbformat": 4,
  "nbformat_minor": 0,
  "metadata": {
    "colab": {
      "provenance": [],
      "collapsed_sections": [],
      "authorship_tag": "ABX9TyMPTg5T6pP4+NYtP9QhAhdZ",
      "include_colab_link": true
    },
    "kernelspec": {
      "name": "python3",
      "display_name": "Python 3"
    },
    "language_info": {
      "name": "python"
    }
  },
  "cells": [
    {
      "cell_type": "markdown",
      "metadata": {
        "id": "view-in-github",
        "colab_type": "text"
      },
      "source": [
        "<a href=\"https://colab.research.google.com/github/andricmitrovic/ML-activity/blob/main/linear_ridge_regression.ipynb\" target=\"_parent\"><img src=\"https://colab.research.google.com/assets/colab-badge.svg\" alt=\"Open In Colab\"/></a>"
      ]
    },
    {
      "cell_type": "code",
      "execution_count": 1,
      "metadata": {
        "id": "3vUvOD7Ye2-c"
      },
      "outputs": [],
      "source": [
        "from sklearn import linear_model\n",
        "from sklearn import datasets\n",
        "from matplotlib import pyplot as plt\n",
        "import numpy as np\n",
        "from sklearn.preprocessing import PolynomialFeatures"
      ]
    },
    {
      "cell_type": "code",
      "source": [
        "X, y = datasets.load_diabetes(return_X_y=True)\n",
        "X = X[:30]\n",
        "y = y[:30]\n",
        "\n",
        "N = 50 \n",
        "np.random.seed(20)\n",
        "X = np.sort(np.random.rand(N,1),axis=0)\n",
        "noise = np.random.normal(0,0.3,size=(N,1))\n",
        "y = np.sin(2*np.pi*X) + noise"
      ],
      "metadata": {
        "id": "yGLI0cldfF3m"
      },
      "execution_count": 2,
      "outputs": []
    },
    {
      "cell_type": "code",
      "source": [
        "y.shape"
      ],
      "metadata": {
        "colab": {
          "base_uri": "https://localhost:8080/"
        },
        "id": "elABp563iV3a",
        "outputId": "eb5802e6-9cf1-4147-8bcf-ef093ff3d13f"
      },
      "execution_count": 3,
      "outputs": [
        {
          "output_type": "execute_result",
          "data": {
            "text/plain": [
              "(50, 1)"
            ]
          },
          "metadata": {},
          "execution_count": 3
        }
      ]
    },
    {
      "cell_type": "code",
      "source": [
        "X.shape"
      ],
      "metadata": {
        "colab": {
          "base_uri": "https://localhost:8080/"
        },
        "id": "LNamf8fNfqO7",
        "outputId": "c55a0a87-971c-45c5-fb16-529946b3d4ad"
      },
      "execution_count": 4,
      "outputs": [
        {
          "output_type": "execute_result",
          "data": {
            "text/plain": [
              "(50, 1)"
            ]
          },
          "metadata": {},
          "execution_count": 4
        }
      ]
    },
    {
      "cell_type": "code",
      "source": [
        "# alphas = np.linspace(0, 1, num = 5)\n",
        "alphas = [0.0, 0.001, 0.01, 0.1]"
      ],
      "metadata": {
        "id": "ky5lfm-xclUc"
      },
      "execution_count": 5,
      "outputs": []
    },
    {
      "cell_type": "code",
      "source": [
        "p = 100\n",
        "poly_feature = PolynomialFeatures(degree=p)\n",
        "X_poly = poly_feature.fit_transform(X)\n",
        "X_poly.shape"
      ],
      "metadata": {
        "colab": {
          "base_uri": "https://localhost:8080/"
        },
        "id": "vmvcKeLXimNY",
        "outputId": "a565fb84-747a-4679-c574-1a0d2178b685"
      },
      "execution_count": 6,
      "outputs": [
        {
          "output_type": "execute_result",
          "data": {
            "text/plain": [
              "(50, 101)"
            ]
          },
          "metadata": {},
          "execution_count": 6
        }
      ]
    },
    {
      "cell_type": "code",
      "source": [
        "plt.scatter(X, y, color = 'black', s = 4)\n",
        "\n",
        "for a in alphas:\n",
        "  model = linear_model.Ridge(alpha = a)\n",
        "  model.fit(X_poly, y)\n",
        "  y_pred = model.predict(X_poly)\n",
        "\n",
        "  plt.plot(X, y_pred, label = str(a), linewidth = 3)\n",
        "\n",
        "plt.legend()\n",
        "plt.show()"
      ],
      "metadata": {
        "colab": {
          "base_uri": "https://localhost:8080/",
          "height": 321
        },
        "id": "P-PLKKJ-ZKKz",
        "outputId": "ab155828-d9ef-4759-9d0a-7a57e042b1b0"
      },
      "execution_count": 7,
      "outputs": [
        {
          "output_type": "stream",
          "name": "stderr",
          "text": [
            "/usr/local/lib/python3.7/dist-packages/sklearn/linear_model/_ridge.py:197: UserWarning: Singular matrix in solving dual problem. Using least-squares solution instead.\n",
            "  \"Singular matrix in solving dual problem. Using \"\n"
          ]
        },
        {
          "output_type": "display_data",
          "data": {
            "text/plain": [
              "<Figure size 432x288 with 1 Axes>"
            ],
            "image/png": "[encoded data removed]"
          },
          "metadata": {
            "needs_background": "light"
          }
        }
      ]
    },
    {
      "cell_type": "code",
      "source": [],
      "metadata": {
        "id": "vR0Zx140ZMdd"
      },
      "execution_count": 7,
      "outputs": []
    },
    {
      "cell_type": "code",
      "source": [],
      "metadata": {
        "id": "LXWKhoVkimVX"
      },
      "execution_count": 7,
      "outputs": []
    }
  ]
}