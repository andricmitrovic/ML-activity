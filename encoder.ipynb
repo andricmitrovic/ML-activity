{
  "nbformat": 4,
  "nbformat_minor": 0,
  "metadata": {
    "colab": {
      "provenance": [],
      "authorship_tag": "ABX9TyPP2/xO725B7Q841mkXKzmt",
      "include_colab_link": true
    },
    "kernelspec": {
      "name": "python3",
      "display_name": "Python 3"
    },
    "language_info": {
      "name": "python"
    }
  },
  "cells": [
    {
      "cell_type": "markdown",
      "metadata": {
        "id": "view-in-github",
        "colab_type": "text"
      },
      "source": [
        "<a href=\"https://colab.research.google.com/github/andricmitrovic/ML-activity/blob/main/encoder.ipynb\" target=\"_parent\"><img src=\"https://colab.research.google.com/assets/colab-badge.svg\" alt=\"Open In Colab\"/></a>"
      ]
    },
    {
      "cell_type": "code",
      "execution_count": 1,
      "metadata": {
        "id": "0819_FyfXug3"
      },
      "outputs": [],
      "source": [
        "import torch\n",
        "import torch.nn as nn\n",
        "from torch import optim"
      ]
    },
    {
      "cell_type": "code",
      "source": [
        "from matplotlib import pyplot as plt"
      ],
      "metadata": {
        "id": "CfQSWa04bDhC"
      },
      "execution_count": 2,
      "outputs": []
    },
    {
      "cell_type": "code",
      "source": [
        "import numpy as np"
      ],
      "metadata": {
        "id": "7kXTFmEZdT0b"
      },
      "execution_count": 3,
      "outputs": []
    },
    {
      "cell_type": "code",
      "source": [
        "torch.manual_seed(42)"
      ],
      "metadata": {
        "colab": {
          "base_uri": "https://localhost:8080/"
        },
        "id": "-d3tucC6eJBL",
        "outputId": "e2d356e5-d3dd-404c-8767-8a1e859f4663"
      },
      "execution_count": 4,
      "outputs": [
        {
          "output_type": "execute_result",
          "data": {
            "text/plain": [
              "<torch._C.Generator at 0x7f4de9e30910>"
            ]
          },
          "metadata": {},
          "execution_count": 4
        }
      ]
    },
    {
      "cell_type": "code",
      "source": [
        "input_output = torch.Tensor([[1, 0, 0, 0, 0, 0, 0, 0],\n",
        "                             [0, 1, 0, 0, 0, 0, 0, 0],\n",
        "                             [0, 0, 1, 0, 0, 0, 0, 0],\n",
        "                             [0, 0, 0, 1, 0, 0, 0, 0],\n",
        "                             [0, 0, 0, 0, 1, 0, 0, 0],\n",
        "                             [0, 0, 0, 0, 0, 1, 0, 0],\n",
        "                             [0, 0, 0, 0, 0, 0, 1, 0],\n",
        "                             [0, 0, 0, 0, 0, 0, 0, 1]\n",
        "                            ])"
      ],
      "metadata": {
        "id": "DnBB8WUhX0i8"
      },
      "execution_count": 5,
      "outputs": []
    },
    {
      "cell_type": "code",
      "source": [
        "class Encoder(nn.Module):\n",
        "  def __init__(self):\n",
        "    super(Encoder, self).__init__()\n",
        "    self.fc1 = nn.Linear(8, 3)\n",
        "    self.fc2 = nn.Linear(3, 8)\n",
        "    self.sigmoid = torch.nn.Sigmoid()\n",
        "\n",
        "  def forward(self, input):\n",
        "    output = self.fc1(input)\n",
        "    output = self.sigmoid(output)\n",
        "    output = self.fc2(output)\n",
        "    output = self.sigmoid(output)\n",
        "    return output"
      ],
      "metadata": {
        "id": "AZ0ogjZnX7Nh"
      },
      "execution_count": 6,
      "outputs": []
    },
    {
      "cell_type": "code",
      "source": [
        "EPOCHS = 5000\n",
        "LR = 0.01"
      ],
      "metadata": {
        "id": "dIUQjgjpZnYT"
      },
      "execution_count": 7,
      "outputs": []
    },
    {
      "cell_type": "code",
      "source": [
        "model = Encoder()\n",
        "optimizer = optim.Adam(model.parameters(), lr=LR)\n",
        "criterion = nn.MSELoss()"
      ],
      "metadata": {
        "id": "wygWVq9NZa6F"
      },
      "execution_count": 8,
      "outputs": []
    },
    {
      "cell_type": "code",
      "source": [
        "loss_history = []\n",
        "\n",
        "for epoch in range(EPOCHS):\n",
        "  optimizer.zero_grad()\n",
        "  out = model(input_output)\n",
        "  loss = criterion(input_output, out)\n",
        "  loss.backward()\n",
        "  optimizer.step()\n",
        "\n",
        "  loss_history.append(loss.item())"
      ],
      "metadata": {
        "id": "5yh2cUbCZH4P"
      },
      "execution_count": 9,
      "outputs": []
    },
    {
      "cell_type": "code",
      "source": [
        "plt.plot(loss_history)"
      ],
      "metadata": {
        "colab": {
          "base_uri": "https://localhost:8080/",
          "height": 283
        },
        "id": "TrfoDrnxZkRP",
        "outputId": "f5ac3ac1-0899-4300-fba1-f17a6ca33d15"
      },
      "execution_count": 10,
      "outputs": [
        {
          "output_type": "execute_result",
          "data": {
            "text/plain": [
              "[<matplotlib.lines.Line2D at 0x7f4de8d67820>]"
            ]
          },
          "metadata": {},
          "execution_count": 10
        },
        {
          "output_type": "display_data",
          "data": {
            "text/plain": [
              "<Figure size 432x288 with 1 Axes>"
            ],
            "image/png": "[encoded data removed]"
          },
          "metadata": {
            "needs_background": "light"
          }
        }
      ]
    },
    {
      "cell_type": "code",
      "source": [
        "with torch.no_grad():\n",
        "  s = torch.nn.Sigmoid()\n",
        "  weights = model.fc2.weight\n",
        "  weights = s(weights)\n",
        "  weights = np.around(weights.numpy(), 0)\n",
        "  print(weights)\n",
        "\n",
        "  out = model(input_output)\n",
        "  for yt, y in zip(input_output, out):\n",
        "    yt = yt.numpy()\n",
        "    y = np.around(y.numpy(), 0)\n",
        "    print(yt, y)"
      ],
      "metadata": {
        "colab": {
          "base_uri": "https://localhost:8080/"
        },
        "id": "GPcglg3HbNzC",
        "outputId": "a3850409-8e85-4ab4-b84b-ea5c4e78a8d7"
      },
      "execution_count": 11,
      "outputs": [
        {
          "output_type": "stream",
          "name": "stdout",
          "text": [
            "[[1. 1. 0.]\n",
            " [1. 0. 1.]\n",
            " [0. 0. 1.]\n",
            " [1. 1. 1.]\n",
            " [0. 1. 0.]\n",
            " [0. 0. 0.]\n",
            " [0. 1. 1.]\n",
            " [1. 0. 0.]]\n",
            "[1. 0. 0. 0. 0. 0. 0. 0.] [1. 0. 0. 0. 0. 0. 0. 0.]\n",
            "[0. 1. 0. 0. 0. 0. 0. 0.] [0. 1. 0. 0. 0. 0. 0. 0.]\n",
            "[0. 0. 1. 0. 0. 0. 0. 0.] [0. 0. 1. 0. 0. 0. 0. 0.]\n",
            "[0. 0. 0. 1. 0. 0. 0. 0.] [0. 0. 0. 1. 0. 0. 0. 0.]\n",
            "[0. 0. 0. 0. 1. 0. 0. 0.] [0. 0. 0. 0. 1. 0. 0. 0.]\n",
            "[0. 0. 0. 0. 0. 1. 0. 0.] [0. 0. 0. 0. 0. 1. 0. 0.]\n",
            "[0. 0. 0. 0. 0. 0. 1. 0.] [0. 0. 0. 0. 0. 0. 1. 0.]\n",
            "[0. 0. 0. 0. 0. 0. 0. 1.] [0. 0. 0. 0. 0. 0. 0. 1.]\n"
          ]
        }
      ]
    },
    {
      "cell_type": "code",
      "source": [],
      "metadata": {
        "id": "Un5hcNlOcddK"
      },
      "execution_count": 11,
      "outputs": []
    }
  ]
}