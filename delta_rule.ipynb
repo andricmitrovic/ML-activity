{
  "cells": [
    {
      "cell_type": "markdown",
      "metadata": {
        "id": "view-in-github",
        "colab_type": "text"
      },
      "source": [
        "<a href=\"https://colab.research.google.com/github/andricmitrovic/ML-activity/blob/main/delta_rule.ipynb\" target=\"_parent\"><img src=\"https://colab.research.google.com/assets/colab-badge.svg\" alt=\"Open In Colab\"/></a>"
      ]
    },
    {
      "cell_type": "code",
      "execution_count": 1,
      "metadata": {
        "id": "F9-ZT06kZycf"
      },
      "outputs": [],
      "source": [
        "import numpy as np\n",
        "from sklearn import datasets\n",
        "from tqdm import tqdm\n",
        "from matplotlib import pyplot as plt"
      ]
    },
    {
      "cell_type": "code",
      "execution_count": 2,
      "metadata": {
        "id": "fvGq3aoZZ003"
      },
      "outputs": [],
      "source": [
        "np.random.seed(42)"
      ]
    },
    {
      "cell_type": "code",
      "execution_count": 3,
      "metadata": {
        "id": "2T5vDYnXmbQz"
      },
      "outputs": [],
      "source": [
        "(data, target) = datasets.load_breast_cancer(return_X_y=True)"
      ]
    },
    {
      "cell_type": "code",
      "execution_count": 4,
      "metadata": {
        "colab": {
          "base_uri": "https://localhost:8080/"
        },
        "id": "Pa_iIxcumcDv",
        "outputId": "5272c32a-e7fa-4c32-e11c-11494eb679c9"
      },
      "outputs": [
        {
          "output_type": "execute_result",
          "data": {
            "text/plain": [
              "array([[1.799e+01, 1.038e+01, 1.228e+02, ..., 4.601e-01, 1.189e-01,\n",
              "        1.000e+00],\n",
              "       [2.057e+01, 1.777e+01, 1.329e+02, ..., 2.750e-01, 8.902e-02,\n",
              "        1.000e+00],\n",
              "       [1.969e+01, 2.125e+01, 1.300e+02, ..., 3.613e-01, 8.758e-02,\n",
              "        1.000e+00],\n",
              "       ...,\n",
              "       [1.660e+01, 2.808e+01, 1.083e+02, ..., 2.218e-01, 7.820e-02,\n",
              "        1.000e+00],\n",
              "       [2.060e+01, 2.933e+01, 1.401e+02, ..., 4.087e-01, 1.240e-01,\n",
              "        1.000e+00],\n",
              "       [7.760e+00, 2.454e+01, 4.792e+01, ..., 2.871e-01, 7.039e-02,\n",
              "        1.000e+00]])"
            ]
          },
          "metadata": {},
          "execution_count": 4
        }
      ],
      "source": [
        "data = np.hstack((data, np.ones((data.shape[0], 1))))       # inserted bias at the end, some error with numpy rounding down floats if i insert np.ones first\n",
        "data"
      ]
    },
    {
      "cell_type": "code",
      "source": [
        "class Perceptron:\n",
        "    def __init__(self, xs, ys, iters = 3000, lr = 0.0001):\n",
        "        self.iters = iters\n",
        "        self.lr = lr\n",
        "        self.xs = xs\n",
        "        self.ys = ys\n",
        "        self.w = self.init_weights()\n",
        "        self.mse_history = []\n",
        "\n",
        "    def init_weights(self):\n",
        "      _, k = self.xs.shape\n",
        "      return np.random.normal(size = k)\n",
        "\n",
        "    def sigmoid(self, x):\n",
        "      return 1 / (1 + np.exp(-x))\n",
        "\n",
        "    def predict(self, x):\n",
        "      y = np.dot(self.w, x)\n",
        "      return self.sigmoid(y)\n",
        "    \n",
        "    def learn(self):\n",
        "      N, k = self.xs.shape\n",
        "      for _ in tqdm(range(self.iters)):\n",
        "        mse = 0\n",
        "        delta_w = np.zeros(k)\n",
        "        for i in range(N):\n",
        "          x = self.xs[i]\n",
        "          y = self.ys[i]\n",
        "          out = self.predict(x)\n",
        "          delta_w += self.lr * (y - out) * out * (1.0 - out) * x\n",
        "          mse += (y - out)**2\n",
        "        self.w += delta_w\n",
        "        mse = mse / (2 * N)\n",
        "        #print(mse)\n",
        "        self.mse_history.append(mse)\n",
        "      return self.w, self.mse_history"
      ],
      "metadata": {
        "id": "w-SwoYwaqda2"
      },
      "execution_count": 5,
      "outputs": []
    },
    {
      "cell_type": "code",
      "source": [
        "model = Perceptron(data, target)\n",
        "w, mse_history = model.learn()\n",
        "w"
      ],
      "metadata": {
        "colab": {
          "base_uri": "https://localhost:8080/"
        },
        "id": "Otv1De_Nq-RJ",
        "outputId": "782a0409-04ce-4670-9ed5-415cdeadcce4"
      },
      "execution_count": 6,
      "outputs": [
        {
          "output_type": "stream",
          "name": "stderr",
          "text": [
            "  0%|          | 0/3000 [00:00<?, ?it/s]/usr/local/lib/python3.7/dist-packages/ipykernel_launcher.py:15: RuntimeWarning: overflow encountered in exp\n",
            "  from ipykernel import kernelapp as app\n",
            "100%|██████████| 3000/3000 [00:42<00:00, 71.36it/s] \n"
          ]
        },
        {
          "output_type": "execute_result",
          "data": {
            "text/plain": [
              "array([ 0.64628081,  0.15627768,  1.50253   ,  1.27291893, -0.23253115,\n",
              "       -0.23460613,  1.57707203,  0.7661162 , -0.46632179,  0.5439081 ,\n",
              "       -0.45469216, -0.437853  ,  0.28737198, -1.69530943, -1.72469755,\n",
              "       -0.5619828 , -1.01197533,  0.31431503, -0.90771902, -1.41215769,\n",
              "        1.63585056,  0.08516494,  1.03200852, -1.27737237, -0.54239208,\n",
              "        0.10813633, -1.15614961,  0.37368427, -0.59751632, -0.29039105,\n",
              "       -0.57915719])"
            ]
          },
          "metadata": {},
          "execution_count": 6
        }
      ]
    },
    {
      "cell_type": "code",
      "execution_count": 7,
      "metadata": {
        "colab": {
          "base_uri": "https://localhost:8080/",
          "height": 282
        },
        "id": "qZh5fFRpqDOy",
        "outputId": "64aa739f-a0df-47ca-d111-d95f7cfe8fd6"
      },
      "outputs": [
        {
          "output_type": "execute_result",
          "data": {
            "text/plain": [
              "[<matplotlib.lines.Line2D at 0x7f30b881e390>]"
            ]
          },
          "metadata": {},
          "execution_count": 7
        },
        {
          "output_type": "display_data",
          "data": {
            "text/plain": [
              "<Figure size 432x288 with 1 Axes>"
            ],
            "image/png": "[encoded data removed]"
          },
          "metadata": {
            "needs_background": "light"
          }
        }
      ],
      "source": [
        "plt.plot(mse_history)"
      ]
    },
    {
      "cell_type": "code",
      "source": [],
      "metadata": {
        "id": "NeLwF5jZwatO"
      },
      "execution_count": 7,
      "outputs": []
    }
  ],
  "metadata": {
    "colab": {
      "provenance": [],
      "authorship_tag": "ABX9TyOcKs7y7bA8+unbDJ5y+OKf",
      "include_colab_link": true
    },
    "kernelspec": {
      "display_name": "Python 3",
      "name": "python3"
    },
    "language_info": {
      "name": "python"
    }
  },
  "nbformat": 4,
  "nbformat_minor": 0
}